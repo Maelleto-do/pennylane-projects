{
 "cells": [
  {
   "cell_type": "markdown",
   "metadata": {},
   "source": [
    "# Implémentation d'un circuit \"bruyant\"\n",
    "\n",
    "Ce tutoriel consiste à simuler des circuits bruyants à l'aide des fonctionnalités intégrées à PennyLane. \n",
    "\n",
    "La première partie consiste à étudier les canaux bruyants et les matrices de densité, puis la seconde partie consiste à simuler des circuits bruyants. \n",
    "La troisième partie consiste à utiliser les fonctionnalités de PennyLane pour calculer les gradients des canaux bruités afin d'optimiser les paramètres de bruit dans un circuit.\n",
    "\n"
   ]
  },
  {
   "cell_type": "markdown",
   "metadata": {},
   "source": [
    "Le bruit est une transformation indésirable qui modifie la sortie prévue d'un calcul quantique. Il existe deux catégories de bruit :\n",
    "\n",
    "- Le *bruit cohérent* : il provient de dispositifs imparfaitement calibré qui n'appliquent pas exactement les portes souhaitées, par exemple en appliquant une rotation d'angle $\\phi + \\epsilon$ ua lieu de l'angle $\\phi$.\n",
    "\n",
    "- Le *bruit incohérent* : il provient d'une interaction entre l'ordinateur quantique et l'environnement, qui induit des distributions de probabilités sur les états du qubits en sortie (états mixtes). La sortie est donc toujours aléatoire.\n",
    "\n",
    "Les états mixtes sont décrits par des *matrices de densité*, qui permettent de décrire la distribution de probabilités pour un état quantique.\n",
    "\n",
    "Commencons par afficher la matrice de densité de l'état de Bell $|\\phi\\rangle = \\frac{1 }{\\sqrt(2)}  * (|00\\rangle + |11\\rangle)$."
   ]
  },
  {
   "cell_type": "code",
   "execution_count": 2,
   "metadata": {},
   "outputs": [],
   "source": [
    "import pennylane as qml\n",
    "from pennylane import numpy as np"
   ]
  },
  {
   "cell_type": "markdown",
   "metadata": {},
   "source": [
    "(PennyLane _default.mixed_ permet de fournir une prise en charge native des états mixtes et de simuler des calculs bruyants)"
   ]
  },
  {
   "cell_type": "code",
   "execution_count": 7,
   "metadata": {},
   "outputs": [],
   "source": [
    "dev = qml.device('default.mixed', wires=2)\n",
    "\n",
    "@qml.qnode(dev)\n",
    "def circuit():\n",
    "    qml.Hadamard(wires=0)\n",
    "    qml.CNOT(wires=[0,1])\n",
    "    return qml.expval(qml.PauliZ(0) @ qml.PauliZ(1))\n",
    "\n",
    "\n"
   ]
  },
  {
   "cell_type": "markdown",
   "metadata": {},
   "source": [
    "L'appareil stocke l'état de sortie sous forme de matrice de densité. \n",
    "Dans ce cas, la matrice de densité est égale à $|\\phi\\rangle\\langle\\phi|$ où $|\\phi\\rangle = \\frac{1 }{\\sqrt(2)}  * (|00\\rangle + |11\\rangle)$."
   ]
  },
  {
   "cell_type": "code",
   "execution_count": 8,
   "metadata": {},
   "outputs": [
    {
     "name": "stdout",
     "output_type": "stream",
     "text": [
      "Output state is = \n",
      "[[1. 0. 0. 0.]\n",
      " [0. 0. 0. 0.]\n",
      " [0. 0. 0. 0.]\n",
      " [0. 0. 0. 0.]]\n"
     ]
    }
   ],
   "source": [
    "print(f\"Output state is = \\n{np.real(dev.state)}\")"
   ]
  },
  {
   "cell_type": "markdown",
   "metadata": {},
   "source": [
    "Le bruit incohérent est modélisé par des *canaux quantiques*, représenté mathématiquement par les opérateurs de Kraus ($K_i$) tels que $\\sum _i K_i ^\\dagger K_i = I$. Ainsi, pour un état initial $\\rho$, l'état de la sortie après l'action d'un canal $\\phi$ est égale à :\n",
    "\n",
    "$\\phi(\\rho) = \\sum _i K_i \\rho K_i^\\dagger$\n",
    "\n",
    "\n",
    "Plus généralement, l'action d'un canal quantique peut être interpretée comme appliquant une transformation correspondant à l'opérateur de Kraus $K_i = \\frac{1}{p_i}K_i \\rho K_i^\\dagger$ avec une probabilité $p_i = Tr[K_i \\rho K_i^\\dagger]$.\n"
   ]
  },
  {
   "cell_type": "markdown",
   "metadata": {},
   "source": [
    "Par exemple, considérons le canal qui décrit l'inversion de l'état d'un qubit (porte X) avec une probabilité $p$, et qui laisse l'état du qubit inchangé avec une probabilité $1-p$. Ses opérateurs de Kraus sont :\n",
    "\n",
    "$K_0 = \\sqrt{1 - p}  \\left( {\\begin{array}{cc}\n",
    "    1 & 0 \\\\\n",
    "    0 & 1 \\\\\n",
    "  \\end{array} } \\right)$\n",
    "\n",
    "$K_1 = \\sqrt{p}  \\left( {\\begin{array}{cc}\n",
    "    0 & 1 \\\\\n",
    "    1 & 0 \\\\\n",
    "  \\end{array} } \\right)$\n",
    "\n",
    "\n",
    "  (implémenté à l'aide de _qml.BitFlip_)"
   ]
  },
  {
   "cell_type": "code",
   "execution_count": 14,
   "metadata": {},
   "outputs": [
    {
     "name": "stdout",
     "output_type": "stream",
     "text": [
      "La sortie du QNode pour une probabilité de bitflip de 0.001 est 0.9960\n",
      "L'état mixte du QNode pour une probabilité de bitflip de 0.001 is \n",
      "[[0.499001 0.       0.       0.499001]\n",
      " [0.       0.000999 0.000999 0.      ]\n",
      " [0.       0.000999 0.000999 0.      ]\n",
      " [0.499001 0.       0.       0.499001]]\n",
      "La sortie du QNode pour une probabilité de bitflip de 0.01 est 0.9604\n",
      "L'état mixte du QNode pour une probabilité de bitflip de 0.01 is \n",
      "[[0.4901 0.     0.     0.4901]\n",
      " [0.     0.0099 0.0099 0.    ]\n",
      " [0.     0.0099 0.0099 0.    ]\n",
      " [0.4901 0.     0.     0.4901]]\n",
      "La sortie du QNode pour une probabilité de bitflip de 0.1 est 0.6400\n",
      "L'état mixte du QNode pour une probabilité de bitflip de 0.1 is \n",
      "[[0.41 0.   0.   0.41]\n",
      " [0.   0.09 0.09 0.  ]\n",
      " [0.   0.09 0.09 0.  ]\n",
      " [0.41 0.   0.   0.41]]\n",
      "La sortie du QNode pour une probabilité de bitflip de 0.2 est 0.3600\n",
      "L'état mixte du QNode pour une probabilité de bitflip de 0.2 is \n",
      "[[0.34 0.   0.   0.34]\n",
      " [0.   0.16 0.16 0.  ]\n",
      " [0.   0.16 0.16 0.  ]\n",
      " [0.34 0.   0.   0.34]]\n"
     ]
    }
   ],
   "source": [
    "@qml.qnode(dev)\n",
    "def bitflip_circuit(p):\n",
    "    qml.Hadamard(wires=0)\n",
    "    qml.CNOT(wires=[0, 1])\n",
    "    qml.BitFlip(p, wires=0)\n",
    "    qml.BitFlip(p, wires=1)\n",
    "    return qml.expval(qml.PauliZ(0) @ qml.PauliZ(1))\n",
    "\n",
    "\n",
    "ps = [0.001, 0.01, 0.1, 0.2]\n",
    "for p in ps :\n",
    "    print(f\"La sortie du QNode pour une probabilité de bitflip de {p} est {bitflip_circuit(p):.4f}\")\n",
    "    print(f\"L'état mixte du QNode pour une probabilité de bitflip de {p} is \\n{np.real(dev.state)}\")\n"
   ]
  },
  {
   "cell_type": "markdown",
   "metadata": {},
   "source": [
    "## Optimisation des canaux\n",
    "\n",
    "A présent, supposons que nous exécutons le circuit pour préparer un état Bell sur un périphérique matériel et observons que la valeur d'attente n'est pas égal à $1$ (comme cela se produirait avec un appareil idéal), mais a plutôt la valeur $0,7781$.\n",
    "\n",
    "Il est connu que dans cette expérience la source principale de bruit est *l'amortissement d'amplitude*, qui se définit par les opérateurs de Kraus :\n",
    "\n",
    "\n",
    "$K_0 =   \\left( {\\begin{array}{cc}\n",
    "    1 & 0 \\\\\n",
    "    0 & \\sqrt{1 - p} \\\\\n",
    "  \\end{array} } \\right)$\n",
    "\n",
    "$K_1 =   \\left( {\\begin{array}{cc}\n",
    "    0 & \\sqrt{p} \\\\\n",
    "    0 & 0 \\\\\n",
    "  \\end{array} } \\right)$\n",
    "\n",
    "\n",
    "Nous cherchons ici à déterminer la probabilité $p$ pour laquelle l'expérience sur une machine bruyante donne un résultat de $0,7781$. \n"
   ]
  },
  {
   "cell_type": "code",
   "execution_count": 15,
   "metadata": {},
   "outputs": [],
   "source": [
    "# Définissons la valeur attendue\n",
    "ev = np.tensor(0.7781, requires_grad = False)\n",
    "\n",
    "# Définissons une fonction sigmoïde afin de traduire le résultat en une probabilité entre 0 et 1\n",
    "def sigmoid(x):\n",
    "    return  1 / (1 + np.exp(-x))\n",
    "\n",
    "# Définissons notre circuit\n",
    "@qml.qnode(dev)\n",
    "def damping_circuit(x):\n",
    "    qml.Hadamard(wires = 0)\n",
    "    qml.CNOT(wires=[0,1])\n",
    "    qml.AmplitudeDamping(sigmoid(x), wires=0)\n",
    "    qml.AmplitudeDamping(sigmoid(x), wires=1)\n",
    "    return qml.expval(qml.PauliZ(0) @ qml.PauliZ(1))\n",
    "\n",
    "\n",
    "\n"
   ]
  },
  {
   "cell_type": "markdown",
   "metadata": {},
   "source": [
    "Optimisons le circuit par rapport à une fonction de coût qui atteint son minimum lorsque la sortie QNode est égale à $0.7781$ :"
   ]
  },
  {
   "cell_type": "code",
   "execution_count": 16,
   "metadata": {},
   "outputs": [],
   "source": [
    "def cost(x, target):\n",
    "    return (damping_circuit(x) - target)**2\n"
   ]
  },
  {
   "cell_type": "markdown",
   "metadata": {},
   "source": [
    "A présent, utilisons une descente de gradient afin d'optimiser le paramètre :"
   ]
  },
  {
   "cell_type": "code",
   "execution_count": 17,
   "metadata": {},
   "outputs": [
    {
     "name": "stderr",
     "output_type": "stream",
     "text": [
      "c:\\Users\\maell\\AppData\\Local\\Programs\\Python\\Python310\\lib\\site-packages\\autograd\\numpy\\numpy_wrapper.py:156: ComplexWarning: Casting complex values to real discards the imaginary part\n",
      "  return A.astype(dtype, order, casting, subok, copy)\n"
     ]
    },
    {
     "name": "stdout",
     "output_type": "stream",
     "text": [
      "Step: 0    Cost: 0.07733961000000007\n",
      "Step: 5    Cost: 0.07733961000000007\n",
      "Step: 10    Cost: 0.07733961000000007\n",
      "Step: 15    Cost: 0.07733961000000007\n",
      "Step: 20    Cost: 0.07733961000000007\n",
      "Step: 25    Cost: 0.07733961000000007\n",
      "Step: 30    Cost: 0.07733961000000007\n",
      "Step: 34    Cost: 0.07733961000000007\n",
      "QNode output after optimization = 0.5000\n",
      "Experimental expectation value = 0.7781\n",
      "Optimized noise parameter p = 0.5000\n"
     ]
    }
   ],
   "source": [
    "opt = qml.GradientDescentOptimizer(stepsize=10)\n",
    "steps = 35\n",
    "x = np.tensor(0.0, requires_grad=True)\n",
    "\n",
    "for i in range(steps):\n",
    "    (x, ev), cost_val = opt.step_and_cost(cost, x, ev)\n",
    "    if i % 5 == 0 or i == steps - 1:\n",
    "        print(f\"Step: {i}    Cost: {cost_val}\")\n",
    "\n",
    "\n",
    "print(f\"QNode output after optimization = {damping_circuit(x):.4f}\")\n",
    "print(f\"Experimental expectation value = {ev}\")\n",
    "print(f\"Optimized noise parameter p = {sigmoid(x.take(0)):.4f}\")\n"
   ]
  },
  {
   "cell_type": "markdown",
   "metadata": {},
   "source": []
  }
 ],
 "metadata": {
  "kernelspec": {
   "display_name": "Python 3.10.5 64-bit",
   "language": "python",
   "name": "python3"
  },
  "language_info": {
   "codemirror_mode": {
    "name": "ipython",
    "version": 3
   },
   "file_extension": ".py",
   "mimetype": "text/x-python",
   "name": "python",
   "nbconvert_exporter": "python",
   "pygments_lexer": "ipython3",
   "version": "3.10.5"
  },
  "orig_nbformat": 4,
  "vscode": {
   "interpreter": {
    "hash": "a70b130b2f06aeac10a115317aea754d3874729b3eac3f26dcc837c7990a3d04"
   }
  }
 },
 "nbformat": 4,
 "nbformat_minor": 2
}
