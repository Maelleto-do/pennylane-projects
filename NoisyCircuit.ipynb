{
 "cells": [
  {
   "cell_type": "markdown",
   "metadata": {},
   "source": [
    "# Implémentation d'un circuit \"bruyant\" - Noisy circuit implementation\n",
    "\n",
    "Ce tutoriel consiste à simuler des circuits bruyants à l'aide des fonctionnalités intégrées à PennyLane. \n",
    "\n",
    "La première partie consiste à étudier les canaux bruyants et les matrices de densité, puis la seconde partie consiste à simuler des circuits bruyants. \n",
    "La troisième partie consiste à utiliser les fonctionnalités de PennyLane pour calculer les gradients des canaux bruités afin d'optimiser les paramètres de bruit dans un circuit.\n",
    "\n",
    "Le bruit est une transformation indésirable qui modifie la sortie prévue d'un calcul quantique. Il existe deux catégories de bruit :\n",
    "\n",
    "- Le *bruit cohérent* : il provient de dispositifs imparfaitement calibré qui n'appliquent pas exactement les portes souhaitées, par exemple en appliquant une rotation d'angle $\\phi + \\epsilon$ ua lieu de l'angle $\\phi$.\n",
    "\n",
    "- Le *bruit incohérent* : il provient d'une interaction entre l'ordinateur quantique et l'environnement, qui induit des distributions de probabilités sur les états du qubits en sortie (états mixtes). La sortie est donc toujours aléatoire.\n",
    "\n",
    "Les états mixtes sont décrits par des *matrices de densité*, qui permettent de décrire la distribution de probabilités pour un état quantique.\n",
    "\n",
    "Commencons par afficher la matrice de densité de l'état de Bell $|\\phi\\rangle = \\frac{1 }{\\sqrt(2)}  * (|00\\rangle + |11\\rangle)$.\n",
    "\n",
    "\\- \\- \\-\n",
    "\n",
    "\n",
    "This tutorial is about simulating noisy circuits using the features built into PennyLane.\n",
    "\n",
    "The first part consists in studying the noisy channels and the density matrices, then the second part consists in simulating noisy circuits.\n",
    "The third part consists in using the functionalities of PennyLane to calculate the gradients of the noisy channels in order to optimize \n",
    "the noise parameters in a circuit.\n",
    "\n",
    "\n",
    "Noise is an unwanted transformation that alters the intended output of a quantum computation. There are two categories of noise:\n",
    "\n",
    "- The *coherent noise*: it comes from imperfectly calibrated devices which do not apply exactly the desired gates, for example by applying a rotation of angle $\\phi + \\epsilon$ instead of angle $\\phi$.\n",
    "\n",
    "- The *incoherent noise*: it comes from an interaction between the quantum computer and the environment, which induces probability distributions on the states of the output qubits (mixed states). The output is therefore always random.\n",
    "\n",
    "Mixed states are described by *density matrices*, which allow to describe the probability distribution for a quantum state.\n",
    "\n",
    "Let's start by displaying the Bell state density matrix $|\\phi\\rangle = \\frac{1 }{\\sqrt(2)} * (|00\\rangle + |11\\rangle)$.\n",
    "\n"
   ]
  },
  {
   "cell_type": "code",
   "execution_count": 84,
   "metadata": {},
   "outputs": [],
   "source": [
    "import pennylane as qml\n",
    "from pennylane import numpy as np"
   ]
  },
  {
   "cell_type": "code",
   "execution_count": 85,
   "metadata": {},
   "outputs": [
    {
     "name": "stdout",
     "output_type": "stream",
     "text": [
      "Name: PennyLane\n",
      "Version: 0.25.1\n",
      "Summary: PennyLane is a Python quantum machine learning library by Xanadu Inc.\n",
      "Home-page: https://github.com/XanaduAI/pennylane\n",
      "Author: \n",
      "Author-email: \n",
      "License: Apache License 2.0\n",
      "Location: c:\\users\\maell\\appdata\\local\\programs\\python\\python310\\lib\\site-packages\n",
      "Requires: appdirs, autograd, autoray, cachetools, networkx, numpy, pennylane-lightning, retworkx, scipy, semantic-version, toml\n",
      "Required-by: PennyLane-Lightning, PennyLane-SF\n",
      "\n",
      "Platform info:           Windows-10-10.0.22000-SP0\n",
      "Python version:          3.10.5\n",
      "Numpy version:           1.23.1\n",
      "Scipy version:           1.8.1\n",
      "Installed devices:\n",
      "- default.gaussian (PennyLane-0.24.0)\n",
      "- default.mixed (PennyLane-0.24.0)\n",
      "- default.qubit (PennyLane-0.24.0)\n",
      "- default.qubit.autograd (PennyLane-0.24.0)\n",
      "- default.qubit.jax (PennyLane-0.24.0)\n",
      "- default.qubit.tf (PennyLane-0.24.0)\n",
      "- default.qubit.torch (PennyLane-0.24.0)\n",
      "- lightning.qubit (PennyLane-Lightning-0.24.0)\n"
     ]
    }
   ],
   "source": [
    "qml.about()"
   ]
  },
  {
   "cell_type": "markdown",
   "metadata": {},
   "source": [
    "(PennyLane _default.mixed_ permet de fournir une prise en charge native des états mixtes et de simuler des calculs bruyants)\n",
    "\n",
    "\\- \\- \\-\n",
    "\n",
    "(PennyLane _default.mixed_ helps provide native support for mixed states and simulate noisy computations)"
   ]
  },
  {
   "cell_type": "code",
   "execution_count": 86,
   "metadata": {},
   "outputs": [],
   "source": [
    "dev = qml.device('default.mixed', wires=2)\n",
    "\n",
    "@qml.qnode(dev)\n",
    "def circuit():\n",
    "    qml.Hadamard(wires=0)\n",
    "    qml.CNOT(wires=[0,1])\n",
    "    return qml.expval(qml.PauliZ(0) @ qml.PauliZ(1))\n",
    "\n",
    "\n"
   ]
  },
  {
   "cell_type": "markdown",
   "metadata": {},
   "source": [
    "L'appareil stocke l'état de sortie sous forme de matrice de densité. \n",
    "Dans ce cas, la matrice de densité est égale à $|\\phi\\rangle\\langle\\phi|$ où $|\\phi\\rangle = \\frac{1 }{\\sqrt(2)}  * (|00\\rangle + |11\\rangle)$.\n",
    "\n",
    "\\- \\- \\-\n",
    "\n",
    "The device stores the output state as a density matrix.\n",
    "In this case, the density matrix is ​​equal to $|\\phi\\rangle\\langle\\phi|$ where $|\\phi\\rangle = \\frac{1 }{\\sqrt(2)} * (|00\\rangle + |11\\rangle)$."
   ]
  },
  {
   "cell_type": "code",
   "execution_count": 87,
   "metadata": {},
   "outputs": [
    {
     "name": "stdout",
     "output_type": "stream",
     "text": [
      "Output state is = \n",
      "[[1. 0. 0. 0.]\n",
      " [0. 0. 0. 0.]\n",
      " [0. 0. 0. 0.]\n",
      " [0. 0. 0. 0.]]\n"
     ]
    }
   ],
   "source": [
    "print(f\"Output state is = \\n{np.real(dev.state)}\")"
   ]
  },
  {
   "cell_type": "markdown",
   "metadata": {},
   "source": [
    "Le bruit incohérent est modélisé par des *canaux quantiques*, représenté mathématiquement par les opérateurs de Kraus ($K_i$) tels que $\\sum _i K_i ^\\dagger K_i = I$. Ainsi, pour un état initial $\\rho$, l'état de la sortie après l'action d'un canal $\\phi$ est égale à :\n",
    "\n",
    "$\\phi(\\rho) = \\sum _i K_i \\rho K_i^\\dagger$\n",
    "\n",
    "\n",
    "Plus généralement, l'action d'un canal quantique peut être interpretée comme appliquant une transformation correspondant à l'opérateur de Kraus $K_i = \\frac{1}{p_i}K_i \\rho K_i^\\dagger$ avec une probabilité $p_i = Tr[K_i \\rho K_i^\\dagger]$.\n",
    "\n",
    "Par exemple, considérons le canal qui décrit l'inversion de l'état d'un qubit (porte X) avec une probabilité $p$, et qui laisse l'état du qubit inchangé avec une probabilité $1-p$. Ses opérateurs de Kraus sont :\n",
    "\n",
    "$K_0 = \\sqrt{1 - p}  \\left( {\\begin{array}{cc}\n",
    "    1 & 0 \\\\\n",
    "    0 & 1 \\\\\n",
    "  \\end{array} } \\right)$\n",
    "\n",
    "$K_1 = \\sqrt{p}  \\left( {\\begin{array}{cc}\n",
    "    0 & 1 \\\\\n",
    "    1 & 0 \\\\\n",
    "  \\end{array} } \\right)$\n",
    "\n",
    "\n",
    "  (implémenté à l'aide de _qml.BitFlip_)\n",
    "\n",
    "\n",
    "  \\- \\- \\-\n",
    "\n",
    "  Incoherent noise is modeled by *quantum channels*, mathematically represented by Kraus operators ($K_i$) such as $\\sum _i K_i ^\\dagger K_i = I$. Thus, for an initial state $\\rho$, the state of the output after the action of a channel $\\phi$ is equal to:\n",
    "\n",
    "$\\phi(\\rho) = \\sum _i K_i \\rho K_i^\\dagger$\n",
    "\n",
    "\n",
    "More generally, the action of a quantum channel can be interpreted as applying a transformation corresponding to the Kraus operator $K_i = \\frac{1}{p_i}K_i \\rho K_i^\\dagger$ with probability $p_i = Tr[K_i \\rho K_i^\\dagger]$.\n",
    "\n",
    "For example, consider the channel that describes the reversal of the state of a qubit (gate X) with probability $p$, and leaves the qubit state unchanged with probability $1-p$. Its Kraus Operators are:\n",
    "\n",
    "$K_0 = \\sqrt{1 - p} \\left( {\\begin{array}{cc}\n",
    "    1 & 0 \\\\\n",
    "    0 & 1 \\\\\n",
    "  \\end{array} } \\right)$\n",
    "\n",
    "$K_1 = \\sqrt{p} \\left( {\\begin{array}{cc}\n",
    "    0 & 1 \\\\\n",
    "    1 & 0 \\\\\n",
    "  \\end{array} } \\right)$\n",
    "\n",
    "\n",
    "  (implemented using _qml.BitFlip_)\n"
   ]
  },
  {
   "cell_type": "code",
   "execution_count": 88,
   "metadata": {},
   "outputs": [
    {
     "name": "stdout",
     "output_type": "stream",
     "text": [
      "La sortie du QNode pour une probabilité de bitflip de 0.001 est 0.9960\n",
      "L'état mixte du QNode pour une probabilité de bitflip de 0.001 is \n",
      "[[0.499001 0.       0.       0.499001]\n",
      " [0.       0.000999 0.000999 0.      ]\n",
      " [0.       0.000999 0.000999 0.      ]\n",
      " [0.499001 0.       0.       0.499001]]\n",
      "La sortie du QNode pour une probabilité de bitflip de 0.01 est 0.9604\n",
      "L'état mixte du QNode pour une probabilité de bitflip de 0.01 is \n",
      "[[0.4901 0.     0.     0.4901]\n",
      " [0.     0.0099 0.0099 0.    ]\n",
      " [0.     0.0099 0.0099 0.    ]\n",
      " [0.4901 0.     0.     0.4901]]\n",
      "La sortie du QNode pour une probabilité de bitflip de 0.1 est 0.6400\n",
      "L'état mixte du QNode pour une probabilité de bitflip de 0.1 is \n",
      "[[0.41 0.   0.   0.41]\n",
      " [0.   0.09 0.09 0.  ]\n",
      " [0.   0.09 0.09 0.  ]\n",
      " [0.41 0.   0.   0.41]]\n",
      "La sortie du QNode pour une probabilité de bitflip de 0.2 est 0.3600\n",
      "L'état mixte du QNode pour une probabilité de bitflip de 0.2 is \n",
      "[[0.34 0.   0.   0.34]\n",
      " [0.   0.16 0.16 0.  ]\n",
      " [0.   0.16 0.16 0.  ]\n",
      " [0.34 0.   0.   0.34]]\n"
     ]
    }
   ],
   "source": [
    "@qml.qnode(dev)\n",
    "def bitflip_circuit(p):\n",
    "    qml.Hadamard(wires=0)\n",
    "    qml.CNOT(wires=[0, 1])\n",
    "    qml.BitFlip(p, wires=0)\n",
    "    qml.BitFlip(p, wires=1)\n",
    "    return qml.expval(qml.PauliZ(0) @ qml.PauliZ(1))\n",
    "\n",
    "\n",
    "ps = [0.001, 0.01, 0.1, 0.2]\n",
    "for p in ps :\n",
    "    print(f\"La sortie du QNode pour une probabilité de bitflip de {p} est {bitflip_circuit(p):.4f}\")\n",
    "    print(f\"L'état mixte du QNode pour une probabilité de bitflip de {p} is \\n{np.real(dev.state)}\")\n"
   ]
  },
  {
   "cell_type": "markdown",
   "metadata": {},
   "source": [
    "### Canal d'erreur dépolarisant - Depolarizing error channel\n",
    "\n",
    "Implémentons un circuit soumis à un canal d'erreur dépolarisant :\n",
    "- Pour $p = 0$, le canal sera un canal d'identité, c'est-à-dire un canal sans bruit.\n",
    "- Pour $p = \\frac{3}{4}$, le canal sera un canal entièrement dépolarisant.\n",
    "- Pour $p = 1$, le canal sera un canal d'erreur de Pauli uniforme.\n",
    "\n",
    "Le canal dépolarisant est décrit par le système de Kraus suivant :\n",
    "\n",
    "\n",
    "$K_0 =  \\sqrt{1 - p}  \\left( {\\begin{array}{cc}\n",
    "    1 & 0 \\\\\n",
    "    0 & 1\\\\\n",
    "  \\end{array} } \\right)$\n",
    "$K_1 =  \\sqrt{\\frac{p}{3}}  \\left( {\\begin{array}{cc}\n",
    "    0 & 1\\\\\n",
    "    1 & 0 \\\\\n",
    "  \\end{array} } \\right)$\n",
    "  $K_2 =  \\sqrt{\\frac{p}{3}}  \\left( {\\begin{array}{cc}\n",
    "    0 & -i \\\\\n",
    "    i & 0\\\\\n",
    "  \\end{array} } \\right)$\n",
    "  $K_3 =  \\sqrt{\\frac{p}{3}}  \\left( {\\begin{array}{cc}\n",
    "    1 & 0 \\\\\n",
    "    0 & -1\\\\\n",
    "  \\end{array} } \\right)$\n",
    "\n",
    "  \\- \\- \\-\n",
    "\n",
    "\n",
    "\n",
    "  Let's implement a circuit subject to a depolarizing error channel:\n",
    "- For $p = 0$, the channel will be an identity channel, ie a noiseless channel.\n",
    "- For $p = \\frac{3}{4}$, the channel will be a fully depolarizing channel.\n",
    "- For $p = 1$, the channel will be a uniform Pauli error channel.\n",
    "\n",
    "The depolarizing channel is described by the following Kraus system:\n",
    "\n",
    "\n",
    "$K_0 = \\sqrt{1 - p} \\left( {\\begin{array}{cc}\n",
    "    1 & 0 \\\\\n",
    "    0 & 1\\\\\n",
    "  \\end{array} } \\right)$\n",
    "$K_1 = \\sqrt{\\frac{p}{3}} \\left( {\\begin{array}{cc}\n",
    "    0 & 1\\\\\n",
    "    1 & 0 \\\\\n",
    "  \\end{array} } \\right)$\n",
    "  $K_2 = \\sqrt{\\frac{p}{3}} \\left( {\\begin{array}{cc}\n",
    "    0 & -i \\\\\n",
    "    i & 0\\\\\n",
    "  \\end{array} } \\right)$\n",
    "  $K_3 = \\sqrt{\\frac{p}{3}} \\left( {\\begin{array}{cc}\n",
    "    1 & 0 \\\\\n",
    "    0 & -1\\\\\n",
    "  \\end{array} } \\right)$"
   ]
  },
  {
   "cell_type": "code",
   "execution_count": 91,
   "metadata": {},
   "outputs": [
    {
     "ename": "DeviceError",
     "evalue": "Device does not exist. Make sure the required plugin is installed.",
     "output_type": "error",
     "traceback": [
      "\u001b[1;31m---------------------------------------------------------------------------\u001b[0m",
      "\u001b[1;31mDeviceError\u001b[0m                               Traceback (most recent call last)",
      "\u001b[1;32mc:\\Users\\maell\\Projects\\pennylane-projects\\NoisyCircuit.ipynb Cellule 11\u001b[0m in \u001b[0;36m<cell line: 1>\u001b[1;34m()\u001b[0m\n\u001b[1;32m----> <a href='vscode-notebook-cell:/c%3A/Users/maell/Projects/pennylane-projects/NoisyCircuit.ipynb#X14sZmlsZQ%3D%3D?line=0'>1</a>\u001b[0m dev_depolarizing \u001b[39m=\u001b[39m qml\u001b[39m.\u001b[39;49mdevice(\u001b[39m'\u001b[39;49m\u001b[39mcirq.simulator\u001b[39;49m\u001b[39m'\u001b[39;49m, wires\u001b[39m=\u001b[39;49m\u001b[39m4\u001b[39;49m)\n",
      "File \u001b[1;32mc:\\Users\\maell\\AppData\\Local\\Programs\\Python\\Python310\\lib\\site-packages\\pennylane\\__init__.py:328\u001b[0m, in \u001b[0;36mdevice\u001b[1;34m(name, *args, **kwargs)\u001b[0m\n\u001b[0;32m    324\u001b[0m         dev\u001b[39m.\u001b[39mcustom_expand(custom_decomp_expand_fn)\n\u001b[0;32m    326\u001b[0m     \u001b[39mreturn\u001b[39;00m dev\n\u001b[1;32m--> 328\u001b[0m \u001b[39mraise\u001b[39;00m DeviceError(\u001b[39m\"\u001b[39m\u001b[39mDevice does not exist. Make sure the required plugin is installed.\u001b[39m\u001b[39m\"\u001b[39m)\n",
      "\u001b[1;31mDeviceError\u001b[0m: Device does not exist. Make sure the required plugin is installed."
     ]
    }
   ],
   "source": [
    "\n",
    "dev_depolarizing = qml.device('cirq.simulator', wires=4)\n",
    "\n",
    "\n"
   ]
  },
  {
   "cell_type": "code",
   "execution_count": 53,
   "metadata": {},
   "outputs": [
    {
     "name": "stdout",
     "output_type": "stream",
     "text": [
      "0: ──H─┤ ╭<Z@Z@Z@Z>\n",
      "1: ──H─┤ ├<Z@Z@Z@Z>\n",
      "2: ──H─┤ ├<Z@Z@Z@Z>\n",
      "3: ──H─┤ ╰<Z@Z@Z@Z>\n"
     ]
    },
    {
     "ename": "AttributeError",
     "evalue": "'DefaultMixed' object has no attribute '_Depolarizing_circuit'",
     "output_type": "error",
     "traceback": [
      "\u001b[1;31m---------------------------------------------------------------------------\u001b[0m",
      "\u001b[1;31mAttributeError\u001b[0m                            Traceback (most recent call last)",
      "\u001b[1;32mc:\\Users\\maell\\Projects\\pennylane-projects\\NoisyCircuit.ipynb Cellule 13\u001b[0m in \u001b[0;36m<cell line: 14>\u001b[1;34m()\u001b[0m\n\u001b[0;32m     <a href='vscode-notebook-cell:/c%3A/Users/maell/Projects/pennylane-projects/NoisyCircuit.ipynb#X15sZmlsZQ%3D%3D?line=10'>11</a>\u001b[0m     \u001b[39mreturn\u001b[39;00m qml\u001b[39m.\u001b[39mexpval(qml\u001b[39m.\u001b[39mPauliZ(\u001b[39m0\u001b[39m) \u001b[39m@\u001b[39m qml\u001b[39m.\u001b[39mPauliZ(\u001b[39m1\u001b[39m) \u001b[39m@\u001b[39m qml\u001b[39m.\u001b[39mPauliZ(\u001b[39m2\u001b[39m) \u001b[39m@\u001b[39m qml\u001b[39m.\u001b[39mPauliZ(\u001b[39m3\u001b[39m))\n\u001b[0;32m     <a href='vscode-notebook-cell:/c%3A/Users/maell/Projects/pennylane-projects/NoisyCircuit.ipynb#X15sZmlsZQ%3D%3D?line=12'>13</a>\u001b[0m \u001b[39mprint\u001b[39m(qml\u001b[39m.\u001b[39mdraw(Depolarizing_circuit)(\u001b[39m0.1\u001b[39m))\n\u001b[1;32m---> <a href='vscode-notebook-cell:/c%3A/Users/maell/Projects/pennylane-projects/NoisyCircuit.ipynb#X15sZmlsZQ%3D%3D?line=13'>14</a>\u001b[0m dev_depolarizing\u001b[39m.\u001b[39;49m_Depolarizing_circuit\u001b[39m.\u001b[39mdraw(output\u001b[39m=\u001b[39m\u001b[39m\"\u001b[39m\u001b[39mmpl\u001b[39m\u001b[39m\"\u001b[39m)\n",
      "\u001b[1;31mAttributeError\u001b[0m: 'DefaultMixed' object has no attribute '_Depolarizing_circuit'"
     ]
    }
   ],
   "source": [
    "@qml.qnode(dev_depolarizing)\n",
    "def Depolarizing_circuit(p):\n",
    "    qml.Hadamard(wires=0)\n",
    "    qml.Hadamard(wires=1)\n",
    "    qml.Hadamard(wires=2)\n",
    "    qml.Hadamard(wires=3)\n",
    "    qml.DepolarizingChannel(p, 0, False, None)\n",
    "    qml.DepolarizingChannel(p, 2, False, None)\n",
    "    qml.DepolarizingChannel(p, 3, False, None)\n",
    "    qml.DepolarizingChannel(p, 4, False, None)\n",
    "    return qml.expval(qml.PauliZ(0) @ qml.PauliZ(1) @ qml.PauliZ(2) @ qml.PauliZ(3))\n",
    "\n",
    "print(qml.draw(Depolarizing_circuit)(0.1))\n",
    "dev_depolarizing._Depolarizing_circuit.draw(output=\"mpl\")\n",
    "\n",
    "# ps = [0.001, 0.01, 0.1, 0.2]\n",
    "# for p in ps :\n",
    "#     print(f\"La sortie du QNode pour une probabilité de dépolarisation de {p} est {Depolarizing_circuit(p):.4f}\")\n"
   ]
  },
  {
   "cell_type": "markdown",
   "metadata": {},
   "source": [
    "## Optimisation des canaux - Channel optimization\n",
    "\n",
    "A présent, supposons que nous exécutons le circuit pour préparer un état Bell sur un périphérique matériel et observons que la valeur d'attente n'est pas égal à $1$ (comme cela se produirait avec un appareil idéal), mais a plutôt la valeur $0,7781$.\n",
    "\n",
    "Il est connu que dans cette expérience la source principale de bruit est *l'amortissement d'amplitude*, qui se définit par les opérateurs de Kraus :\n",
    "\n",
    "\n",
    "$K_0 =   \\left( {\\begin{array}{cc}\n",
    "    1 & 0 \\\\\n",
    "    0 & \\sqrt{1 - p} \\\\\n",
    "  \\end{array} } \\right)$\n",
    "\n",
    "$K_1 =   \\left( {\\begin{array}{cc}\n",
    "    0 & \\sqrt{p} \\\\\n",
    "    0 & 0 \\\\\n",
    "  \\end{array} } \\right)$\n",
    "\n",
    "\n",
    "Nous cherchons ici à déterminer la probabilité $p$ pour laquelle l'expérience sur une machine bruyante donne un résultat de $0,7781$. \n",
    "\n",
    "\n",
    "\\- \\- \\-\n",
    "\n",
    "\n",
    "Now suppose we run the circuit to prepare a Bell state on a hardware device and observe that the expectation value does not equal $1$ (as it would with an ideal device), but instead has the value $0.7781$.\n",
    "\n",
    "It is known that in this experiment the main source of noise is *amplitude damping*, which is defined by the Kraus operators:\n",
    "\n",
    "\n",
    "$K_0 = \\left( {\\begin{array}{cc}\n",
    "    1 & 0 \\\\\n",
    "    0 & \\sqrt{1 - p} \\\\\n",
    "  \\end{array} } \\right)$\n",
    "\n",
    "$K_1 = \\left( {\\begin{array}{cc}\n",
    "    0 & \\sqrt{p} \\\\\n",
    "    0 & 0 \\\\\n",
    "  \\end{array} } \\right)$\n",
    "\n",
    "\n",
    "We seek here to determine the probability $p$ for which the experiment on a noisy machine gives a result of $0.7781$.\n"
   ]
  },
  {
   "cell_type": "code",
   "execution_count": null,
   "metadata": {},
   "outputs": [],
   "source": [
    "# Définissons la valeur attendue\n",
    "ev = np.tensor(0.7781, requires_grad = False)\n",
    "\n",
    "# Définissons une fonction sigmoïde afin de traduire le résultat en une probabilité entre 0 et 1\n",
    "def sigmoid(x):\n",
    "    return  1 / (1 + np.exp(-x))\n",
    "\n",
    "# Définissons notre circuit\n",
    "@qml.qnode(dev)\n",
    "def damping_circuit(x):\n",
    "    qml.Hadamard(wires = 0)\n",
    "    qml.CNOT(wires=[0,1])\n",
    "    qml.AmplitudeDamping(sigmoid(x), wires=0)\n",
    "    qml.AmplitudeDamping(sigmoid(x), wires=1)\n",
    "    return qml.expval(qml.PauliZ(0) @ qml.PauliZ(1))\n",
    "\n",
    "\n",
    "\n"
   ]
  },
  {
   "cell_type": "markdown",
   "metadata": {},
   "source": [
    "Optimisons le circuit par rapport à une fonction de coût qui atteint son minimum lorsque la sortie QNode est égale à $0.7781$ :\n",
    "\n",
    "\\- \\- \\-\n",
    "\n",
    "Let's optimize the circuit against a cost function that reaches its minimum when the QNode output is equal to $0.7781$:"
   ]
  },
  {
   "cell_type": "code",
   "execution_count": null,
   "metadata": {},
   "outputs": [],
   "source": [
    "def cost(x, target):\n",
    "    return (damping_circuit(x) - target)**2\n"
   ]
  },
  {
   "cell_type": "markdown",
   "metadata": {},
   "source": [
    "A présent, utilisons une descente de gradient afin d'optimiser le paramètre :\n",
    "\n",
    "\\- \\- \\- \n",
    "\n",
    "Now let's use gradient descent to optimize the parameter:"
   ]
  },
  {
   "cell_type": "code",
   "execution_count": null,
   "metadata": {},
   "outputs": [
    {
     "name": "stderr",
     "output_type": "stream",
     "text": [
      "c:\\Users\\maell\\AppData\\Local\\Programs\\Python\\Python310\\lib\\site-packages\\autograd\\numpy\\numpy_wrapper.py:156: ComplexWarning: Casting complex values to real discards the imaginary part\n",
      "  return A.astype(dtype, order, casting, subok, copy)\n"
     ]
    },
    {
     "name": "stdout",
     "output_type": "stream",
     "text": [
      "Step: 0    Cost: 0.07733961000000007\n",
      "Step: 5    Cost: 0.07733961000000007\n",
      "Step: 10    Cost: 0.07733961000000007\n",
      "Step: 15    Cost: 0.07733961000000007\n",
      "Step: 20    Cost: 0.07733961000000007\n",
      "Step: 25    Cost: 0.07733961000000007\n",
      "Step: 30    Cost: 0.07733961000000007\n",
      "Step: 34    Cost: 0.07733961000000007\n",
      "QNode output after optimization = 0.5000\n",
      "Experimental expectation value = 0.7781\n",
      "Optimized noise parameter p = 0.5000\n"
     ]
    }
   ],
   "source": [
    "opt = qml.GradientDescentOptimizer(stepsize=10)\n",
    "steps = 35\n",
    "x = np.tensor(0.0, requires_grad=True)\n",
    "\n",
    "for i in range(steps):\n",
    "    (x, ev), cost_val = opt.step_and_cost(cost, x, ev)\n",
    "    if i % 5 == 0 or i == steps - 1:\n",
    "        print(f\"Step: {i}    Cost: {cost_val}\")\n",
    "\n",
    "\n",
    "print(f\"QNode output after optimization = {damping_circuit(x):.4f}\")\n",
    "print(f\"Experimental expectation value = {ev}\")\n",
    "print(f\"Optimized noise parameter p = {sigmoid(x.take(0)):.4f}\")\n"
   ]
  },
  {
   "cell_type": "markdown",
   "metadata": {},
   "source": []
  }
 ],
 "metadata": {
  "kernelspec": {
   "display_name": "Python 3.10.5 64-bit",
   "language": "python",
   "name": "python3"
  },
  "language_info": {
   "codemirror_mode": {
    "name": "ipython",
    "version": 3
   },
   "file_extension": ".py",
   "mimetype": "text/x-python",
   "name": "python",
   "nbconvert_exporter": "python",
   "pygments_lexer": "ipython3",
   "version": "3.10.5"
  },
  "orig_nbformat": 4,
  "vscode": {
   "interpreter": {
    "hash": "a70b130b2f06aeac10a115317aea754d3874729b3eac3f26dcc837c7990a3d04"
   }
  }
 },
 "nbformat": 4,
 "nbformat_minor": 2
}
