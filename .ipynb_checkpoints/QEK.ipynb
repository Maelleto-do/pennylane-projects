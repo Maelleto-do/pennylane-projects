{
 "cells": [
  {
   "cell_type": "code",
   "execution_count": 20,
   "metadata": {},
   "outputs": [],
   "source": [
    "from pennylane import numpy as np\n",
    "import matplotlib as mpl\n",
    "\n",
    "np.random.seed(1359)"
   ]
  },
  {
   "cell_type": "markdown",
   "metadata": {},
   "source": [
    "# Data generation\n",
    "\n",
    "\n",
    "Pour cet exemple, nous utiliserons deux classes de données comprises dans un cercle.\n",
    "La fonction _make_circular_data permet de générer des données au sein d'un cercle.\n",
    "make_double_cake_data permet de générer l'ensemble des points. L'argument num_sectors permet une division égale du cercle en num_sectors parties."
   ]
  },
  {
   "cell_type": "code",
   "execution_count": 21,
   "metadata": {},
   "outputs": [],
   "source": [
    "def _make_circular_data(num_sectors):\n",
    "    \"\"\"Generate datapoints arranged in an even circle.\"\"\"\n",
    "    center_indices = np.array(range(0, num_sectors))\n",
    "    sector_angle = 2 * np.pi / num_sectors\n",
    "    angles = (center_indices + 0.5) * sector_angle\n",
    "    x = 0.7 * np.cos(angles)\n",
    "    y = 0.7 * np.sin(angles)\n",
    "    labels = 2 * np.remainder(np.floor_divide(angles, sector_angle), 2) - 1\n",
    "\n",
    "    return x, y, labels\n",
    "\n",
    "\n",
    "def make_double_cake_data(num_sectors):\n",
    "    x1, y1, labels1 = _make_circular_data(num_sectors)\n",
    "    x2, y2, labels2 = _make_circular_data(num_sectors)\n",
    "\n",
    "    # x and y coordinates of the datapoints\n",
    "    x = np.hstack([x1, 0.5 * x2])\n",
    "    y = np.hstack([y1, 0.5 * y2])\n",
    "\n",
    "    # Canonical form of dataset\n",
    "    X = np.vstack([x, y]).T\n",
    "\n",
    "    labels = np.hstack([labels1, -1 * labels2])\n",
    "\n",
    "    # Canonical form of labels\n",
    "    Y = labels.astype(int)\n",
    "\n",
    "    return X, Y"
   ]
  },
  {
   "cell_type": "code",
   "execution_count": 22,
   "metadata": {},
   "outputs": [],
   "source": [
    "def plot_double_cake_data(X, Y, ax, num_sectors=None):\n",
    "    \"\"\"Plot double cake data and corresponding sectors.\"\"\"\n",
    "    x, y = X.T\n",
    "    cmap = mpl.colors.ListedColormap([\"#FF0000\", \"#0000FF\"])\n",
    "    ax.scatter(x, y, c=Y, cmap=cmap, s=25, marker=\"s\")\n",
    "\n",
    "    if num_sectors is not None:\n",
    "        sector_angle = 360 / num_sectors\n",
    "        for i in range(num_sectors):\n",
    "            color = [\"#FF0000\", \"#0000FF\"][(i % 2)]\n",
    "            other_color = [\"#FF0000\", \"#0000FF\"][((i + 1) % 2)]\n",
    "            ax.add_artist(\n",
    "                mpl.patches.Wedge(\n",
    "                    (0, 0),\n",
    "                    1,\n",
    "                    i * sector_angle,\n",
    "                    (i + 1) * sector_angle,\n",
    "                    lw=0,\n",
    "                    color=color,\n",
    "                    alpha=0.1,\n",
    "                    width=0.5,\n",
    "                )\n",
    "            )\n",
    "            ax.add_artist(\n",
    "                mpl.patches.Wedge(\n",
    "                    (0, 0),\n",
    "                    0.5,\n",
    "                    i * sector_angle,\n",
    "                    (i + 1) * sector_angle,\n",
    "                    lw=0,\n",
    "                    color=other_color,\n",
    "                    alpha=0.1,\n",
    "                )\n",
    "            )\n",
    "            ax.set_xlim(-1, 1)\n",
    "\n",
    "    ax.set_ylim(-1, 1)\n",
    "    ax.set_aspect(\"equal\")\n",
    "    ax.axis(\"off\")\n",
    "\n",
    "    return ax"
   ]
  },
  {
   "cell_type": "markdown",
   "metadata": {},
   "source": [
    "Affichons les données :"
   ]
  },
  {
   "cell_type": "code",
   "execution_count": 23,
   "metadata": {},
   "outputs": [
    {
     "data": {
      "image/png": "[encoded data removed]",
      "text/plain": [
       "<Figure size 432x288 with 1 Axes>"
      ]
     },
     "metadata": {
      "needs_background": "light"
     },
     "output_type": "display_data"
    }
   ],
   "source": [
    "import matplotlib.pyplot as plt\n",
    "\n",
    "num_sectors = 3\n",
    "X, Y = make_double_cake_data(num_sectors)\n",
    "\n",
    "ax = plot_double_cake_data(X, Y, plt.gca(), num_sectors=num_sectors)"
   ]
  },
  {
   "cell_type": "markdown",
   "metadata": {},
   "source": [
    "Définition du noyau"
   ]
  },
  {
   "cell_type": "code",
   "execution_count": 24,
   "metadata": {},
   "outputs": [],
   "source": [
    "import pennylane as qml\n",
    "\n",
    "\n",
    "def layer(x, params, wires, i0=0, inc=1):\n",
    "    \"\"\"Building block of the embedding ansatz\"\"\"\n",
    "    i = i0\n",
    "    for j, wire in enumerate(wires):\n",
    "        qml.Hadamard(wires=[wire])\n",
    "        qml.RZ(x[i % len(x)], wires=[wire])\n",
    "        i += inc\n",
    "        qml.RY(params[0, j], wires=[wire])\n",
    "\n",
    "    qml.broadcast(unitary=qml.CRZ, pattern=\"ring\", wires=wires, parameters=params[1])\n",
    "\n",
    "    # qml.broadcast pplique plusieurs fois unitaire à un motif spécifique de fils.\n",
    "    # pattern=\"ring\"applique un unitaire à deux fils à tous\n",
    "    # M paires de fils voisines, où le dernier fil est considéré comme voisin du premie"
   ]
  },
  {
   "cell_type": "markdown",
   "metadata": {},
   "source": [
    "Pour construire l'ansatz, cette couche est répétée plusieurs fois, en réutilisant le point de données $x$ mais en alimentant différents paramètres variationnels params dans chacun d'eux. Ensemble, le point de données et les paramètres variationnels déterminent entièrement l'ansatz d'intégration $U(x)$. Afin de construire le circuit du noyau complet, nous avons également besoin de son adjoint $U(x)^\\dagger$, que nous pouvons obtenir via qml.adjoint."
   ]
  },
  {
   "cell_type": "code",
   "execution_count": 25,
   "metadata": {},
   "outputs": [],
   "source": [
    "def ansatz(x, params, wires):\n",
    "    \"\"\"The embedding ansatz\"\"\"\n",
    "    for j, layer_params in enumerate(params):\n",
    "        layer(x, layer_params, wires, i0=j * len(wires))\n",
    "\n",
    "\n",
    "adjoint_ansatz = qml.adjoint(ansatz)\n",
    "\n",
    "\n",
    "def random_params(num_wires, num_layers):\n",
    "    \"\"\"Generate random variational parameters in the shape for the ansatz.\"\"\"\n",
    "    return np.random.uniform(0, 2 * np.pi, (num_layers, 2, num_wires), requires_grad=True)"
   ]
  },
  {
   "cell_type": "code",
   "execution_count": 26,
   "metadata": {},
   "outputs": [],
   "source": [
    "dev = qml.device(\"default.qubit\", wires=5, shots=None)\n",
    "wires = dev.wires.tolist()"
   ]
  },
  {
   "cell_type": "code",
   "execution_count": 27,
   "metadata": {},
   "outputs": [],
   "source": [
    "@qml.qnode(dev)\n",
    "def kernel_circuit(x1, x2, params):\n",
    "    ansatz(x1, params, wires=wires)\n",
    "    adjoint_ansatz(x2, params, wires=wires)\n",
    "    return qml.probs(wires=wires) #Probabilité de chaque état"
   ]
  },
  {
   "cell_type": "code",
   "execution_count": 28,
   "metadata": {},
   "outputs": [],
   "source": [
    "def kernel(x1, x2, params):\n",
    "    return kernel_circuit(x1, x2, params)[0]"
   ]
  },
  {
   "cell_type": "code",
   "execution_count": 29,
   "metadata": {},
   "outputs": [],
   "source": [
    "init_params = random_params(num_wires=5, num_layers=6)"
   ]
  },
  {
   "cell_type": "code",
   "execution_count": 30,
   "metadata": {},
   "outputs": [
    {
     "name": "stdout",
     "output_type": "stream",
     "text": [
      "The kernel value between the first and second datapoint is 0.093\n"
     ]
    }
   ],
   "source": [
    "kernel_value = kernel(X[0], X[1], init_params)\n",
    "print(f\"The kernel value between the first and second datapoint is {kernel_value:.3f}\")"
   ]
  },
  {
   "cell_type": "markdown",
   "metadata": {},
   "source": []
  },
  {
   "cell_type": "code",
   "execution_count": 31,
   "metadata": {},
   "outputs": [
    {
     "name": "stdout",
     "output_type": "stream",
     "text": [
      "[[1.    0.093 0.012 0.721 0.149 0.055]\n",
      " [0.093 1.    0.056 0.218 0.73  0.213]\n",
      " [0.012 0.056 1.    0.032 0.191 0.648]\n",
      " [0.721 0.218 0.032 1.    0.391 0.226]\n",
      " [0.149 0.73  0.191 0.391 1.    0.509]\n",
      " [0.055 0.213 0.648 0.226 0.509 1.   ]]\n"
     ]
    }
   ],
   "source": [
    "init_kernel = lambda x1, x2: kernel(x1, x2, init_params)\n",
    "K_init = qml.kernels.square_kernel_matrix(X, init_kernel, assume_normalized_kernel=True)\n",
    "\n",
    "with np.printoptions(precision=3, suppress=True):\n",
    "    print(K_init)"
   ]
  },
  {
   "cell_type": "markdown",
   "metadata": {},
   "source": [
    "# Prédictions\n",
    "\n",
    "Pour effectuer une prédiction réelle, nous utiliserons le classificateur de vecteurs de support (SVC) de scikit-learn.\n",
    "\n"
   ]
  },
  {
   "cell_type": "code",
   "execution_count": 32,
   "metadata": {},
   "outputs": [],
   "source": [
    "from sklearn.svm import SVC"
   ]
  },
  {
   "cell_type": "code",
   "execution_count": 33,
   "metadata": {},
   "outputs": [],
   "source": [
    "svm = SVC(kernel=lambda X1, X2: qml.kernels.kernel_matrix(X1, X2, init_kernel)).fit(X, Y)"
   ]
  },
  {
   "cell_type": "code",
   "execution_count": 34,
   "metadata": {},
   "outputs": [
    {
     "name": "stdout",
     "output_type": "stream",
     "text": [
      "The accuracy of the kernel with random parameters is 0.833\n"
     ]
    }
   ],
   "source": [
    "def accuracy(classifier, X, Y_target):\n",
    "    return 1 - np.count_nonzero(classifier.predict(X) - Y_target) / len(Y_target)\n",
    "\n",
    "\n",
    "accuracy_init = accuracy(svm, X, Y)\n",
    "print(f\"The accuracy of the kernel with random parameters is {accuracy_init:.3f}\")"
   ]
  },
  {
   "cell_type": "code",
   "execution_count": 35,
   "metadata": {},
   "outputs": [],
   "source": [
    "def plot_decision_boundaries(classifier, ax, N_gridpoints=14):\n",
    "    _xx, _yy = np.meshgrid(np.linspace(-1, 1, N_gridpoints), np.linspace(-1, 1, N_gridpoints))\n",
    "\n",
    "    _zz = np.zeros_like(_xx)\n",
    "    for idx in np.ndindex(*_xx.shape):\n",
    "        _zz[idx] = classifier.predict(np.array([_xx[idx], _yy[idx]])[np.newaxis, :])\n",
    "\n",
    "    plot_data = {\"_xx\": _xx, \"_yy\": _yy, \"_zz\": _zz}\n",
    "    ax.contourf(\n",
    "        _xx,\n",
    "        _yy,\n",
    "        _zz,\n",
    "        cmap=mpl.colors.ListedColormap([\"#FF0000\", \"#0000FF\"]),\n",
    "        alpha=0.2,\n",
    "        levels=[-1, 0, 1],\n",
    "    )\n",
    "    plot_double_cake_data(X, Y, ax)\n",
    "\n",
    "    return plot_data"
   ]
  },
  {
   "cell_type": "code",
   "execution_count": 36,
   "metadata": {},
   "outputs": [
    {
     "data": {
      "image/png": "[encoded data removed]",
      "text/plain": [
       "<Figure size 432x288 with 1 Axes>"
      ]
     },
     "metadata": {
      "needs_background": "light"
     },
     "output_type": "display_data"
    }
   ],
   "source": [
    "init_plot_data = plot_decision_boundaries(svm, plt.gca())\n"
   ]
  },
  {
   "cell_type": "markdown",
   "metadata": {},
   "source": [
    "# Training of the quantum kernel\n",
    "\n",
    "Quantum feature maps can have variational parameters. In\n",
    "this section, we discuss how to adjust these parameters to improve the classification capabilities of quantum embedding\n",
    "kernels.\n",
    "\n",
    "\n"
   ]
  },
  {
   "cell_type": "markdown",
   "metadata": {},
   "source": [
    "We first evaluate the kernel target alignment by PennyLane’s kernels module :"
   ]
  },
  {
   "cell_type": "code",
   "execution_count": 38,
   "metadata": {},
   "outputs": [],
   "source": [
    "kta_init = qml.kernels.target_alignment(X, Y, init_kernel, assume_normalized_kernel=True)"
   ]
  },
  {
   "cell_type": "markdown",
   "metadata": {},
   "source": [
    "Now let’s code up an optimization loop and improve the kernel-target alignment :\n",
    "\n",
    "We will make use of **regular gradient descent optimization**.  "
   ]
  },
  {
   "cell_type": "code",
   "execution_count": 39,
   "metadata": {},
   "outputs": [
    {
     "name": "stdout",
     "output_type": "stream",
     "text": [
      "Step 50 - Alignment = 0.098\n",
      "Step 100 - Alignment = 0.121\n",
      "Step 150 - Alignment = 0.141\n",
      "Step 200 - Alignment = 0.173\n",
      "Step 250 - Alignment = 0.196\n",
      "Step 300 - Alignment = 0.224\n",
      "Step 350 - Alignment = 0.245\n",
      "Step 400 - Alignment = 0.261\n",
      "Step 450 - Alignment = 0.276\n",
      "Step 500 - Alignment = 0.289\n"
     ]
    }
   ],
   "source": [
    "def target_alignment(\n",
    "    X,\n",
    "    Y,\n",
    "    kernel,\n",
    "    assume_normalized_kernel=False,\n",
    "    rescale_class_labels=True,\n",
    "):\n",
    "    \"\"\"Kernel-target alignment between kernel and labels.\"\"\"\n",
    "\n",
    "    K = qml.kernels.square_kernel_matrix(\n",
    "        X,\n",
    "        kernel,\n",
    "        assume_normalized_kernel=assume_normalized_kernel,\n",
    "    )\n",
    "\n",
    "    if rescale_class_labels:\n",
    "        nplus = np.count_nonzero(np.array(Y) == 1)\n",
    "        nminus = len(Y) - nplus\n",
    "        _Y = np.array([y / nplus if y == 1 else y / nminus for y in Y])\n",
    "    else:\n",
    "        _Y = np.array(Y)\n",
    "\n",
    "    T = np.outer(_Y, _Y)\n",
    "    inner_product = np.sum(K * T)\n",
    "    norm = np.sqrt(np.sum(K * K) * np.sum(T * T))\n",
    "    inner_product = inner_product / norm\n",
    "\n",
    "    return inner_product\n",
    "\n",
    "\n",
    "params = init_params\n",
    "opt = qml.GradientDescentOptimizer(0.2)\n",
    "\n",
    "for i in range(500):\n",
    "    # Choose subset of datapoints to compute the KTA on.\n",
    "    subset = np.random.choice(list(range(len(X))), 4)\n",
    "    # Define the cost function for optimization\n",
    "    cost = lambda _params: -target_alignment(\n",
    "        X[subset],\n",
    "        Y[subset],\n",
    "        lambda x1, x2: kernel(x1, x2, _params),\n",
    "        assume_normalized_kernel=True,\n",
    "    )\n",
    "    # Optimization step\n",
    "    params = opt.step(cost, params)\n",
    "\n",
    "    # Report the alignment on the full dataset every 50 steps.\n",
    "    if (i + 1) % 50 == 0:\n",
    "        current_alignment = target_alignment(\n",
    "            X,\n",
    "            Y,\n",
    "            lambda x1, x2: kernel(x1, x2, params),\n",
    "            assume_normalized_kernel=True,\n",
    "        )\n",
    "        print(f\"Step {i+1} - Alignment = {current_alignment:.3f}\")"
   ]
  },
  {
   "cell_type": "markdown",
   "metadata": {},
   "source": [
    "We want to assess the impact of training the parameters of the quantum kernel. Thus, let’s build a second support vector classifier with the trained kernel :"
   ]
  },
  {
   "cell_type": "code",
   "execution_count": 40,
   "metadata": {},
   "outputs": [],
   "source": [
    "# First create a kernel with the trained parameter baked into it.\n",
    "trained_kernel = lambda x1, x2: kernel(x1, x2, params)\n",
    "\n",
    "# Second create a kernel matrix function using the trained kernel.\n",
    "trained_kernel_matrix = lambda X1, X2: qml.kernels.kernel_matrix(X1, X2, trained_kernel)\n",
    "\n",
    "# Note that SVC expects the kernel argument to be a kernel matrix function.\n",
    "svm_trained = SVC(kernel=trained_kernel_matrix).fit(X, Y)"
   ]
  },
  {
   "cell_type": "code",
   "execution_count": 41,
   "metadata": {},
   "outputs": [],
   "source": [
    "accuracy_trained = accuracy(svm_trained, X, Y)"
   ]
  },
  {
   "cell_type": "markdown",
   "metadata": {},
   "source": [
    "Following on the results that SVM’s have proven good generalisation behavior, it will be interesting to inspect the decision boundaries of our classifier:"
   ]
  },
  {
   "cell_type": "code",
   "execution_count": 42,
   "metadata": {},
   "outputs": [
    {
     "data": {
      "image/png": "[encoded data removed]",
      "text/plain": [
       "<Figure size 432x288 with 1 Axes>"
      ]
     },
     "metadata": {
      "needs_background": "light"
     },
     "output_type": "display_data"
    }
   ],
   "source": [
    "trained_plot_data = plot_decision_boundaries(svm_trained, plt.gca())"
   ]
  }
 ],
 "metadata": {
  "kernelspec": {
   "display_name": "Python 3.10.5 64-bit",
   "language": "python",
   "name": "python3"
  },
  "language_info": {
   "codemirror_mode": {
    "name": "ipython",
    "version": 3
   },
   "file_extension": ".py",
   "mimetype": "text/x-python",
   "name": "python",
   "nbconvert_exporter": "python",
   "pygments_lexer": "ipython3",
   "version": "3.10.5"
  },
  "orig_nbformat": 4,
  "vscode": {
   "interpreter": {
    "hash": "a70b130b2f06aeac10a115317aea754d3874729b3eac3f26dcc837c7990a3d04"
   }
  }
 },
 "nbformat": 4,
 "nbformat_minor": 2
}
