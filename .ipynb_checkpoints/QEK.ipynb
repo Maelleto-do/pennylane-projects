{
 "cells": [
  {
   "cell_type": "code",
   "execution_count": 1,
   "metadata": {},
   "outputs": [],
   "source": [
    "from pennylane import numpy as np\n",
    "import matplotlib as mpl\n",
    "\n",
    "np.random.seed(1359)"
   ]
  },
  {
   "cell_type": "code",
   "execution_count": 2,
   "metadata": {},
   "outputs": [],
   "source": [
    "def _make_circular_data(num_sectors):\n",
    "    \"\"\"Generate datapoints arranged in an even circle.\"\"\"\n",
    "    center_indices = np.array(range(0, num_sectors))\n",
    "    sector_angle = 2 * np.pi / num_sectors\n",
    "    angles = (center_indices + 0.5) * sector_angle\n",
    "    x = 0.7 * np.cos(angles)\n",
    "    y = 0.7 * np.sin(angles)\n",
    "    labels = 2 * np.remainder(np.floor_divide(angles, sector_angle), 2) - 1\n",
    "\n",
    "    return x, y, labels\n",
    "\n",
    "\n",
    "def make_double_cake_data(num_sectors):\n",
    "    x1, y1, labels1 = _make_circular_data(num_sectors)\n",
    "    x2, y2, labels2 = _make_circular_data(num_sectors)\n",
    "\n",
    "    # x and y coordinates of the datapoints\n",
    "    x = np.hstack([x1, 0.5 * x2])\n",
    "    y = np.hstack([y1, 0.5 * y2])\n",
    "\n",
    "    # Canonical form of dataset\n",
    "    X = np.vstack([x, y]).T\n",
    "\n",
    "    labels = np.hstack([labels1, -1 * labels2])\n",
    "\n",
    "    # Canonical form of labels\n",
    "    Y = labels.astype(int)\n",
    "\n",
    "    return X, Y"
   ]
  },
  {
   "cell_type": "code",
   "execution_count": 3,
   "metadata": {},
   "outputs": [],
   "source": [
    "def plot_double_cake_data(X, Y, ax, num_sectors=None):\n",
    "    \"\"\"Plot double cake data and corresponding sectors.\"\"\"\n",
    "    x, y = X.T\n",
    "    cmap = mpl.colors.ListedColormap([\"#FF0000\", \"#0000FF\"])\n",
    "    ax.scatter(x, y, c=Y, cmap=cmap, s=25, marker=\"s\")\n",
    "\n",
    "    if num_sectors is not None:\n",
    "        sector_angle = 360 / num_sectors\n",
    "        for i in range(num_sectors):\n",
    "            color = [\"#FF0000\", \"#0000FF\"][(i % 2)]\n",
    "            other_color = [\"#FF0000\", \"#0000FF\"][((i + 1) % 2)]\n",
    "            ax.add_artist(\n",
    "                mpl.patches.Wedge(\n",
    "                    (0, 0),\n",
    "                    1,\n",
    "                    i * sector_angle,\n",
    "                    (i + 1) * sector_angle,\n",
    "                    lw=0,\n",
    "                    color=color,\n",
    "                    alpha=0.1,\n",
    "                    width=0.5,\n",
    "                )\n",
    "            )\n",
    "            ax.add_artist(\n",
    "                mpl.patches.Wedge(\n",
    "                    (0, 0),\n",
    "                    0.5,\n",
    "                    i * sector_angle,\n",
    "                    (i + 1) * sector_angle,\n",
    "                    lw=0,\n",
    "                    color=other_color,\n",
    "                    alpha=0.1,\n",
    "                )\n",
    "            )\n",
    "            ax.set_xlim(-1, 1)\n",
    "\n",
    "    ax.set_ylim(-1, 1)\n",
    "    ax.set_aspect(\"equal\")\n",
    "    ax.axis(\"off\")\n",
    "\n",
    "    return ax"
   ]
  },
  {
   "cell_type": "code",
   "execution_count": 4,
   "metadata": {},
   "outputs": [
    {
     "data": {
      "image/png": "[encoded data removed]",
      "text/plain": [
       "<Figure size 432x288 with 1 Axes>"
      ]
     },
     "metadata": {
      "needs_background": "light"
     },
     "output_type": "display_data"
    }
   ],
   "source": [
    "import matplotlib.pyplot as plt\n",
    "\n",
    "num_sectors = 3\n",
    "X, Y = make_double_cake_data(num_sectors)\n",
    "\n",
    "ax = plot_double_cake_data(X, Y, plt.gca(), num_sectors=num_sectors)"
   ]
  },
  {
   "cell_type": "markdown",
   "metadata": {},
   "source": [
    "Définition du noyau"
   ]
  },
  {
   "cell_type": "code",
   "execution_count": 5,
   "metadata": {},
   "outputs": [],
   "source": [
    "import pennylane as qml\n",
    "\n",
    "\n",
    "def layer(x, params, wires, i0=0, inc=1):\n",
    "    \"\"\"Building block of the embedding ansatz\"\"\"\n",
    "    i = i0\n",
    "    for j, wire in enumerate(wires):\n",
    "        qml.Hadamard(wires=[wire])\n",
    "        qml.RZ(x[i % len(x)], wires=[wire])\n",
    "        i += inc\n",
    "        qml.RY(params[0, j], wires=[wire])\n",
    "\n",
    "    qml.broadcast(unitary=qml.CRZ, pattern=\"ring\", wires=wires, parameters=params[1])"
   ]
  },
  {
   "cell_type": "code",
   "execution_count": 6,
   "metadata": {},
   "outputs": [],
   "source": [
    "def ansatz(x, params, wires):\n",
    "    \"\"\"The embedding ansatz\"\"\"\n",
    "    for j, layer_params in enumerate(params):\n",
    "        layer(x, layer_params, wires, i0=j * len(wires))\n",
    "\n",
    "\n",
    "adjoint_ansatz = qml.adjoint(ansatz)\n",
    "\n",
    "\n",
    "def random_params(num_wires, num_layers):\n",
    "    \"\"\"Generate random variational parameters in the shape for the ansatz.\"\"\"\n",
    "    return np.random.uniform(0, 2 * np.pi, (num_layers, 2, num_wires), requires_grad=True)"
   ]
  },
  {
   "cell_type": "code",
   "execution_count": 7,
   "metadata": {},
   "outputs": [],
   "source": [
    "dev = qml.device(\"default.qubit\", wires=5, shots=None)\n",
    "wires = dev.wires.tolist()"
   ]
  },
  {
   "cell_type": "code",
   "execution_count": 8,
   "metadata": {},
   "outputs": [],
   "source": [
    "@qml.qnode(dev)\n",
    "def kernel_circuit(x1, x2, params):\n",
    "    ansatz(x1, params, wires=wires)\n",
    "    adjoint_ansatz(x2, params, wires=wires)\n",
    "    return qml.probs(wires=wires)"
   ]
  },
  {
   "cell_type": "code",
   "execution_count": 9,
   "metadata": {},
   "outputs": [],
   "source": [
    "def kernel(x1, x2, params):\n",
    "    return kernel_circuit(x1, x2, params)[0]"
   ]
  },
  {
   "cell_type": "code",
   "execution_count": 10,
   "metadata": {},
   "outputs": [],
   "source": [
    "init_params = random_params(num_wires=5, num_layers=6)"
   ]
  },
  {
   "cell_type": "code",
   "execution_count": 11,
   "metadata": {},
   "outputs": [
    {
     "name": "stdout",
     "output_type": "stream",
     "text": [
      "The kernel value between the first and second datapoint is 0.093\n"
     ]
    }
   ],
   "source": [
    "kernel_value = kernel(X[0], X[1], init_params)\n",
    "print(f\"The kernel value between the first and second datapoint is {kernel_value:.3f}\")"
   ]
  },
  {
   "cell_type": "code",
   "execution_count": 12,
   "metadata": {},
   "outputs": [
    {
     "name": "stdout",
     "output_type": "stream",
     "text": [
      "[[1.    0.093 0.012 0.721 0.149 0.055]\n",
      " [0.093 1.    0.056 0.218 0.73  0.213]\n",
      " [0.012 0.056 1.    0.032 0.191 0.648]\n",
      " [0.721 0.218 0.032 1.    0.391 0.226]\n",
      " [0.149 0.73  0.191 0.391 1.    0.509]\n",
      " [0.055 0.213 0.648 0.226 0.509 1.   ]]\n"
     ]
    }
   ],
   "source": [
    "init_kernel = lambda x1, x2: kernel(x1, x2, init_params)\n",
    "K_init = qml.kernels.square_kernel_matrix(X, init_kernel, assume_normalized_kernel=True)\n",
    "\n",
    "with np.printoptions(precision=3, suppress=True):\n",
    "    print(K_init)"
   ]
  },
  {
   "cell_type": "markdown",
   "metadata": {},
   "source": [
    "Prédictions"
   ]
  }
 ],
 "metadata": {
  "kernelspec": {
   "display_name": "Python 3.10.5 64-bit",
   "language": "python",
   "name": "python3"
  },
  "language_info": {
   "codemirror_mode": {
    "name": "ipython",
    "version": 3
   },
   "file_extension": ".py",
   "mimetype": "text/x-python",
   "name": "python",
   "nbconvert_exporter": "python",
   "pygments_lexer": "ipython3",
   "version": "3.10.5"
  },
  "orig_nbformat": 4,
  "vscode": {
   "interpreter": {
    "hash": "a70b130b2f06aeac10a115317aea754d3874729b3eac3f26dcc837c7990a3d04"
   }
  }
 },
 "nbformat": 4,
 "nbformat_minor": 2
}
