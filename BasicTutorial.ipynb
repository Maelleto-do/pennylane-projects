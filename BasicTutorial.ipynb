{
 "cells": [
  {
   "cell_type": "code",
   "execution_count": 13,
   "id": "30cc3bdd",
   "metadata": {},
   "outputs": [
    {
     "name": "stdout",
     "output_type": "stream",
     "text": [
      "Requirement already satisfied: pennylane in c:\\users\\maell\\appdata\\local\\programs\\python\\python310\\lib\\site-packages (0.24.0)\n",
      "Requirement already satisfied: numpy in c:\\users\\maell\\appdata\\local\\programs\\python\\python310\\lib\\site-packages (from pennylane) (1.23.1)\n",
      "Requirement already satisfied: toml in c:\\users\\maell\\appdata\\local\\programs\\python\\python310\\lib\\site-packages (from pennylane) (0.10.2)\n",
      "Requirement already satisfied: autograd in c:\\users\\maell\\appdata\\local\\programs\\python\\python310\\lib\\site-packages (from pennylane) (1.4)\n",
      "Requirement already satisfied: appdirs in c:\\users\\maell\\appdata\\local\\programs\\python\\python310\\lib\\site-packages (from pennylane) (1.4.4)\n",
      "Requirement already satisfied: retworkx in c:\\users\\maell\\appdata\\local\\programs\\python\\python310\\lib\\site-packages (from pennylane) (0.11.0)\n",
      "Requirement already satisfied: semantic-version==2.6 in c:\\users\\maell\\appdata\\local\\programs\\python\\python310\\lib\\site-packages (from pennylane) (2.6.0)\n",
      "Requirement already satisfied: cachetools in c:\\users\\maell\\appdata\\local\\programs\\python\\python310\\lib\\site-packages (from pennylane) (5.2.0)\n",
      "Requirement already satisfied: scipy in c:\\users\\maell\\appdata\\local\\programs\\python\\python310\\lib\\site-packages (from pennylane) (1.8.1)\n",
      "Requirement already satisfied: networkx in c:\\users\\maell\\appdata\\local\\programs\\python\\python310\\lib\\site-packages (from pennylane) (2.8.5)\n",
      "Requirement already satisfied: pennylane-lightning>=0.24 in c:\\users\\maell\\appdata\\local\\programs\\python\\python310\\lib\\site-packages (from pennylane) (0.24.0)\n",
      "Requirement already satisfied: autoray>=0.3.1 in c:\\users\\maell\\appdata\\local\\programs\\python\\python310\\lib\\site-packages (from pennylane) (0.3.2)\n",
      "Requirement already satisfied: ninja in c:\\users\\maell\\appdata\\local\\programs\\python\\python310\\lib\\site-packages (from pennylane-lightning>=0.24->pennylane) (1.10.2.3)\n",
      "Requirement already satisfied: future>=0.15.2 in c:\\users\\maell\\appdata\\local\\programs\\python\\python310\\lib\\site-packages (from autograd->pennylane) (0.18.2)\n",
      "Note: you may need to restart the kernel to use updated packages.\n"
     ]
    },
    {
     "name": "stderr",
     "output_type": "stream",
     "text": [
      "WARNING: You are using pip version 22.0.4; however, version 22.2.2 is available.\n",
      "You should consider upgrading via the 'c:\\Users\\maell\\AppData\\Local\\Programs\\Python\\Python310\\python.exe -m pip install --upgrade pip' command.\n"
     ]
    }
   ],
   "source": [
    "pip install pennylane"
   ]
  },
  {
   "cell_type": "markdown",
   "id": "9de4ab80",
   "metadata": {},
   "source": [
    "# Tutoriel : rotation d'un qubit\n",
    "\n",
    "Dans l'exercice suivant, nous souhaitons implémenter un circuit effectuant une roation d'un qubit autours de l'axe X puis autours de l'axe Y.\n",
    "L'idée sera ensuite de mesurer le gradient lié à ce circuit.\n",
    "\n",
    "### Définition du circuit\n",
    "\n"
   ]
  },
  {
   "cell_type": "code",
   "execution_count": 8,
   "id": "c25e48aa",
   "metadata": {},
   "outputs": [],
   "source": [
    "import pennylane as qml"
   ]
  },
  {
   "cell_type": "code",
   "execution_count": 10,
   "id": "3e0f8015",
   "metadata": {},
   "outputs": [],
   "source": [
    "from pennylane import numpy as np"
   ]
  },
  {
   "cell_type": "code",
   "execution_count": 14,
   "id": "ff59237e",
   "metadata": {},
   "outputs": [],
   "source": [
    "# Utilisation des modèles de qubit avec un seul qubit (wires=1) \n",
    "dev1 = qml.device(\"default.qubit\", wires=1)"
   ]
  },
  {
   "cell_type": "markdown",
   "id": "b1ccf3a3",
   "metadata": {},
   "source": [
    "Définissons notre circuit :"
   ]
  },
  {
   "cell_type": "code",
   "execution_count": 18,
   "id": "102c8010",
   "metadata": {},
   "outputs": [],
   "source": [
    "@qml.qnode(dev1)\n",
    "def circuit(params):\n",
    "    qml.RX(params[0], wires = 0) \n",
    "    qml.RY(params[1], wires = 0)\n",
    "    return qml.expval(qml.PauliZ(0))"
   ]
  },
  {
   "cell_type": "markdown",
   "id": "ce12b333",
   "metadata": {},
   "source": [
    "En choisissant comme angle de rotation 0.54 pour la première rotation et 0.12 pour la seconde, nous obtenons le résultat suivant :"
   ]
  },
  {
   "cell_type": "code",
   "execution_count": 19,
   "id": "152b046f",
   "metadata": {},
   "outputs": [
    {
     "name": "stdout",
     "output_type": "stream",
     "text": [
      "0.8515405859048367\n"
     ]
    }
   ],
   "source": [
    "\n",
    "print(circuit([0.54, 0.12]))"
   ]
  },
  {
   "cell_type": "markdown",
   "id": "5fe0a4ae",
   "metadata": {},
   "source": [
    "### Calcul du gradient"
   ]
  }
 ],
 "metadata": {
  "kernelspec": {
   "display_name": "Python 3.10.5 64-bit",
   "language": "python",
   "name": "python3"
  },
  "language_info": {
   "codemirror_mode": {
    "name": "ipython",
    "version": 3
   },
   "file_extension": ".py",
   "mimetype": "text/x-python",
   "name": "python",
   "nbconvert_exporter": "python",
   "pygments_lexer": "ipython3",
   "version": "3.10.5"
  },
  "vscode": {
   "interpreter": {
    "hash": "a70b130b2f06aeac10a115317aea754d3874729b3eac3f26dcc837c7990a3d04"
   }
  }
 },
 "nbformat": 4,
 "nbformat_minor": 5
}
