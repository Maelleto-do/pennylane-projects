{
 "cells": [
  {
   "cell_type": "code",
   "execution_count": 2,
   "id": "30cc3bdd",
   "metadata": {},
   "outputs": [
    {
     "name": "stdout",
     "output_type": "stream",
     "text": [
      "Requirement already satisfied: pip in c:\\users\\maell\\appdata\\local\\programs\\python\\python310\\lib\\site-packages (22.2.2)\n",
      "Note: you may need to restart the kernel to use updated packages.\n"
     ]
    }
   ],
   "source": [
    "pip install --upgrade pip"
   ]
  },
  {
   "cell_type": "markdown",
   "id": "9de4ab80",
   "metadata": {},
   "source": [
    "# Tutoriel : rotation d'un qubit - rotation of a qubit\n",
    "\n",
    "Dans l'exercice suivant, nous souhaitons implémenter un circuit effectuant une roation d'un qubit autours de l'axe X puis autours de l'axe Y.\n",
    "L'idée sera ensuite de mesurer le gradient lié à ce circuit, puis de trouver une rotation optimale permettant de faire passer le qubit de l'état $|0\\rangle$ à l'état $|1\\rangle$.\n",
    "\n",
    "\\- \\- \\-\n",
    "\n",
    "In the following exercise, we want to implement a circuit that rotates a qubit around the X axis and then around the Y axis.\n",
    "The idea will then be to measure the gradient linked to this circuit, then to find an optimal rotation allowing the qubit to pass from the state $|0\\rangle$ to the state $|1\\rangle$.\n",
    "\n",
    "### 1) Définition du circuit - Circuit Definition\n",
    "\n"
   ]
  },
  {
   "cell_type": "code",
   "execution_count": 3,
   "id": "c25e48aa",
   "metadata": {},
   "outputs": [],
   "source": [
    "import pennylane as qml"
   ]
  },
  {
   "cell_type": "code",
   "execution_count": 4,
   "id": "3e0f8015",
   "metadata": {},
   "outputs": [],
   "source": [
    "from pennylane import numpy as np"
   ]
  },
  {
   "cell_type": "code",
   "execution_count": 5,
   "id": "ff59237e",
   "metadata": {},
   "outputs": [],
   "source": [
    "# Utilisation des modèles de qubit avec un seul qubit (wires=1) \n",
    "dev1 = qml.device(\"default.qubit\", wires=1)"
   ]
  },
  {
   "cell_type": "markdown",
   "id": "b1ccf3a3",
   "metadata": {},
   "source": [
    "Définissons notre circuit :\n",
    "\n",
    "\\- \\- \\- \n",
    "\n",
    "We can define the circuit :"
   ]
  },
  {
   "cell_type": "code",
   "execution_count": 6,
   "id": "102c8010",
   "metadata": {},
   "outputs": [],
   "source": [
    "@qml.qnode(dev1)\n",
    "def circuit(params):\n",
    "    qml.RX(params[0], wires = 0) \n",
    "    qml.RY(params[1], wires = 0)\n",
    "    return qml.expval(qml.PauliZ(0))"
   ]
  },
  {
   "cell_type": "markdown",
   "id": "ce12b333",
   "metadata": {},
   "source": [
    "En choisissant comme angle de rotation 0.54 pour la première rotation et 0.12 pour la seconde, nous obtenons le résultat suivant :\n",
    "\n",
    "\\- \\- \\-\n",
    "\n",
    "By choosing as rotation angle 0.54 for the first rotation and 0.12 for the second, we obtain the following result:"
   ]
  },
  {
   "cell_type": "code",
   "execution_count": 7,
   "id": "152b046f",
   "metadata": {},
   "outputs": [
    {
     "name": "stdout",
     "output_type": "stream",
     "text": [
      "0.8515405859048367\n"
     ]
    }
   ],
   "source": [
    "\n",
    "print(circuit([0.54, 0.12]))"
   ]
  },
  {
   "cell_type": "markdown",
   "id": "5fe0a4ae",
   "metadata": {},
   "source": [
    "### 2) Calcul du gradient - Gradient calculation"
   ]
  },
  {
   "cell_type": "markdown",
   "id": "5920b969",
   "metadata": {},
   "source": [
    "Grâce à Pennylane, nous pouvons accéder au gradient de la fonction _circuit_ définie ci-dessus.\n",
    "\n",
    "Nous pouvons différencier en utilisant la grad() fonction intégrée. grad() renvoie une autre fonction, représentant le gradient (c'est-à-dire le vecteur des dérivées partielles) du circuit.\n",
    "\n",
    "\\- \\- \\-\n",
    "\n",
    "Thanks to Pennylane, we can access the gradient of the _circuit_ function defined above.\n",
    "\n",
    "We can differentiate using the built-in grad() function. grad() returns another function, representing the gradient (i.e. vector of partial derivatives) of the circuit.\n"
   ]
  },
  {
   "cell_type": "code",
   "execution_count": 8,
   "id": "e731a571",
   "metadata": {},
   "outputs": [],
   "source": [
    "dcircuit = qml.grad(circuit, argnum=0)\n",
    "# le circuit prenant de fait un argument \"params\", on met ici argnum à 0"
   ]
  },
  {
   "cell_type": "code",
   "execution_count": 9,
   "id": "5a99b91b",
   "metadata": {},
   "outputs": [
    {
     "name": "stdout",
     "output_type": "stream",
     "text": [
      "[array(-0.51043865), array(-0.1026782)]\n"
     ]
    }
   ],
   "source": [
    "print(dcircuit([0.54, 0.12]))"
   ]
  },
  {
   "cell_type": "markdown",
   "id": "bedce376",
   "metadata": {},
   "source": [
    "### 3) Optimisation - Optimization\n",
    "\n",
    "PennyLane fournit une collection d'optimiseurs basés sur la descente de gradient. Ces optimiseurs acceptent une fonction de coût et des paramètres initiaux, et utilisent la différenciation automatique de PennyLane pour effectuer une descente de gradient.\n",
    "\n",
    "Il s'agit ici d'optimiser les deux paramètres $\\phi_1$ et $\\phi_2$ tel que le qubit, à l'état initial $|0\\rangle$ est tourné pour être dans l'état $|1\\rangle$.\n",
    "\n",
    "Pour cela, nous devons définir une fonction de coût. En minimisant la fonction de coût, l'optimiseurs de Pennylane déterminera les valeurs des paramètres du circuit qui permettent d'effectuer la rotation.\n",
    "\n",
    "\\- \\- \\-\n",
    "\n",
    "PennyLane provides a collection of gradient descent based optimizers. These optimizers accept a cost function and initial parameters, and use PennyLane's automatic differentiation to perform gradient descent.\n",
    "\n",
    "This is to optimize the two parameters $\\phi_1$ and $\\phi_2$ such that the qubit, in the initial state $|0\\rangle$ is rotated to be in the state $|1\\rangle$ .\n",
    "\n",
    "For this, we need to define a cost function. By minimizing the cost function, Pennylane's optimizers will determine the values ​​of the circuit parameters that allow the rotation to be performed."
   ]
  },
  {
   "cell_type": "code",
   "execution_count": 10,
   "id": "85152210",
   "metadata": {},
   "outputs": [],
   "source": [
    "def cost(x):\n",
    "    return circuit(x)"
   ]
  },
  {
   "cell_type": "markdown",
   "id": "b172766f",
   "metadata": {},
   "source": [
    "Pour commencer l'optimisation, choisissons des petites valeurs pour $\\phi_1$ et $\\phi_2$ :\n",
    "\n",
    "\\- \\- \\-\n",
    "\n",
    "To start the optimization, let's choose small values ​​for $\\phi_1$ and $\\phi_2$:"
   ]
  },
  {
   "cell_type": "code",
   "execution_count": 11,
   "id": "5f7548cd",
   "metadata": {},
   "outputs": [
    {
     "name": "stdout",
     "output_type": "stream",
     "text": [
      "0.9998675058299389\n"
     ]
    }
   ],
   "source": [
    "init_params = np.array([0.011, 0.012], requires_grad = True)\n",
    "print(cost(init_params))"
   ]
  },
  {
   "cell_type": "markdown",
   "id": "768bc0c5",
   "metadata": {},
   "source": [
    "Notons que pour ces valeurs initiales, la fonction de coût est proche de $1$.\n",
    "\n",
    "Ainsi, utilisons l'optimiseur afin de mettre à jour les paramètres du circuit sur 100 pas :\n",
    "\n",
    "\\- \\- \\-\n",
    "\n",
    "Note that for these initial values, the cost function is close to $1$.\n",
    "\n",
    "So, let's use the optimizer to update the circuit parameters to 100 steps:"
   ]
  },
  {
   "cell_type": "code",
   "execution_count": 12,
   "id": "4071d151",
   "metadata": {},
   "outputs": [
    {
     "name": "stdout",
     "output_type": "stream",
     "text": [
      "Le résultat de l'optimisation est: [7.15266381e-18 3.14159265e+00] \n"
     ]
    }
   ],
   "source": [
    "# Initialisation de l'optimiseur\n",
    "opt = qml.GradientDescentOptimizer(stepsize = 0.4)\n",
    "\n",
    "# Définition du nombre de pas\n",
    "steps = 100\n",
    "\n",
    "# Définition la valeur initiale\n",
    "params = init_params\n",
    "\n",
    "for i in range(steps):\n",
    "    params = opt.step(cost, params)\n",
    "\n",
    "print(\"Le résultat de l'optimisation est: {} \".format(params))"
   ]
  },
  {
   "cell_type": "markdown",
   "id": "e4a43d2c",
   "metadata": {},
   "source": [
    "The optimization result is: [7.15266381e-18 3.14159265e+00]"
   ]
  }
 ],
 "metadata": {
  "kernelspec": {
   "display_name": "Python 3.10.5 64-bit",
   "language": "python",
   "name": "python3"
  },
  "language_info": {
   "codemirror_mode": {
    "name": "ipython",
    "version": 3
   },
   "file_extension": ".py",
   "mimetype": "text/x-python",
   "name": "python",
   "nbconvert_exporter": "python",
   "pygments_lexer": "ipython3",
   "version": "3.10.5"
  },
  "vscode": {
   "interpreter": {
    "hash": "a70b130b2f06aeac10a115317aea754d3874729b3eac3f26dcc837c7990a3d04"
   }
  }
 },
 "nbformat": 4,
 "nbformat_minor": 5
}
